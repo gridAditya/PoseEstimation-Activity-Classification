{
 "cells": [
  {
   "cell_type": "markdown",
   "metadata": {},
   "source": [
    "## Setting up"
   ]
  },
  {
   "cell_type": "code",
   "execution_count": 27,
   "metadata": {},
   "outputs": [],
   "source": [
    "import sys"
   ]
  },
  {
   "cell_type": "code",
   "execution_count": 28,
   "metadata": {},
   "outputs": [],
   "source": [
    "sys.path.append('../src')"
   ]
  },
  {
   "cell_type": "code",
   "execution_count": 29,
   "metadata": {},
   "outputs": [],
   "source": [
    "import cv2\n",
    "from pymatreader import read_mat"
   ]
  },
  {
   "cell_type": "code",
   "execution_count": 30,
   "metadata": {},
   "outputs": [],
   "source": [
    "dataset_path = \"../data/raw\"\n",
    "image_files_path = \"../data/raw/original_images\""
   ]
  },
  {
   "cell_type": "code",
   "execution_count": 31,
   "metadata": {},
   "outputs": [],
   "source": [
    "data = read_mat(f'{dataset_path}/mpii_human_pose_v1_u12_2/mpii_human_pose_v1_u12_1.mat')\n",
    "data = data['RELEASE']"
   ]
  },
  {
   "cell_type": "code",
   "execution_count": 32,
   "metadata": {},
   "outputs": [],
   "source": [
    "id_joint = {0: 'rankl', 1: 'rknee', 2: 'rhip',  3: 'lhip', 4: 'lknee', 5: 'lankl',\n",
    "                   6: 'pelvis', 7: 'thorax', 8: 'upper_neck', 9: 'head_top', 10: 'rwri', 11: 'relb', \n",
    "                   12: 'rsho', 13: 'lsho', 14: 'lelb', 15: 'lwri'} # id to joint conversion"
   ]
  },
  {
   "cell_type": "code",
   "execution_count": 33,
   "metadata": {},
   "outputs": [],
   "source": [
    "skeleton_data = [\n, # here [a, b] denotes there is a connection between joint "a" and joint "b" in human body",
    "        [0, 1], # right_ankle right_knee\n",
    "        [1, 2], # right_knee right_hip\n",
    "        [2, 6], # right_hip pelvis\n",
    "        [6, 3], # pelvis left_hip\n",
    "        [3, 4], # left_hip left_knee\n",
    "        [4, 5], # left_knee left_ankle\n",
    "        [12, 11], # right_shoulder right_elbow\n",
    "        [11, 10], # right_elbow right_wrist\n",
    "        [13, 14], # left_shoulder left_elbow\n",
    "        [14, 15], # left_elbow left_wrist\n",
    "        [2, 12], # right_hip right_shoulder\n",
    "        [3, 13], # left_hip left_shoulder\n",
    "        [2, 7], # right_hip right_thorax\n",
    "        [3, 7], # left_hip thorax\n",
    "        [12, 7], # right_shoulder thorax\n",
    "        [13, 7], # left_shoulder thorax,\n",
    "        [7, 8], # thorax upper_neck\n",
    "        [8, 9], # upper_neck head_top\n",
    "    ]"
   ]
  },
  {
   "cell_type": "code",
   "execution_count": 34,
   "metadata": {},
   "outputs": [
    {
     "data": {
      "text/plain": [
       "[0, 1, 2, 3, 4, 5, 6, 7, 8, 9, 10, 11, 12, 13, 14, 15]"
      ]
     },
     "execution_count": 34,
     "metadata": {},
     "output_type": "execute_result"
    }
   ],
   "source": [
    "id = [i for i in range(16)]\n",
    "id"
   ]
  },
  {
   "cell_type": "code",
   "execution_count": 35,
   "metadata": {},
   "outputs": [
    {
     "data": {
      "text/plain": [
       "24987"
      ]
     },
     "execution_count": 35,
     "metadata": {},
     "output_type": "execute_result"
    }
   ],
   "source": [
    "num_images = len(data['annolist']['image'])\n",
    "num_images"
   ]
  },
  {
   "cell_type": "markdown",
   "metadata": {},
   "source": [
    "## Extracting data and handling negative keypoints"
   ]
  },
  {
   "cell_type": "code",
   "execution_count": 36,
   "metadata": {},
   "outputs": [],
   "source": [
    "from data.data_cleaner import extract_valid_data_from_matlab_file"
   ]
  },
  {
   "cell_type": "code",
   "execution_count": 37,
   "metadata": {},
   "outputs": [
    {
     "name": "stdout",
     "output_type": "stream",
     "text": [
      "[+] Img_name: 089482735.jpg has a negative keypoint co-ordinates, its handled.\n",
      "[+] Img_name: 077224477.jpg has a negative keypoint co-ordinates, its handled.\n",
      "[+] Img_name: 077224477.jpg has a negative keypoint co-ordinates, its handled.\n",
      "[+] Img_name: 077224477.jpg has a negative keypoint co-ordinates, its handled.\n",
      "[+] Img_name: 077096718.jpg has a negative keypoint co-ordinates, its handled.\n",
      "[+] Img_name: 011986537.jpg has a negative keypoint co-ordinates, its handled.\n",
      "[+] Img_name: 030087831.jpg has a negative keypoint co-ordinates, its handled.\n",
      "[+] Img_name: 031897563.jpg has a negative keypoint co-ordinates, its handled.\n",
      "[+] Img_name: 081446848.jpg has a negative keypoint co-ordinates, its handled.\n",
      "[+] Img_name: 069673717.jpg has a negative keypoint co-ordinates, its handled.\n",
      "[+] Img_name: 082645747.jpg has a negative keypoint co-ordinates, its handled.\n",
      "[+] Img_name: 008483771.jpg has a negative keypoint co-ordinates, its handled.\n",
      "[+] Img_name: 008483771.jpg has a negative keypoint co-ordinates, its handled.\n",
      "[+] Img_name: 001135364.jpg has a negative keypoint co-ordinates, its handled.\n",
      "[+] Img_name: 055385428.jpg has a negative keypoint co-ordinates, its handled.\n",
      "[-] File named 040348287.jpg does not exist\n",
      "[-] File named 013401523.jpg does not exist\n",
      "[-] File named 002878268.jpg does not exist\n",
      "[+] Img_name: 064087474.jpg has a negative keypoint co-ordinates, its handled.\n",
      "[+] Img_name: 018188008.jpg has a negative keypoint co-ordinates, its handled.\n",
      "[+] Img_name: 074825969.jpg has a negative keypoint co-ordinates, its handled.\n",
      "[+] Img_name: 091985562.jpg has a negative keypoint co-ordinates, its handled.\n",
      "[+] Img_name: 034634599.jpg has a negative keypoint co-ordinates, its handled.\n",
      "[+] Img_name: 003654967.jpg has a negative keypoint co-ordinates, its handled.\n",
      "[+] Img_name: 047206695.jpg has a negative keypoint co-ordinates, its handled.\n",
      "[+] Img_name: 006570864.jpg has a negative keypoint co-ordinates, its handled.\n",
      "[+] Img_name: 001971054.jpg has a negative keypoint co-ordinates, its handled.\n",
      "[+] Img_name: 014011318.jpg has a negative keypoint co-ordinates, its handled.\n",
      "[+] Img_name: 089455223.jpg has a negative keypoint co-ordinates, its handled.\n",
      "[+] Img_name: 059741310.jpg has a negative keypoint co-ordinates, its handled.\n",
      "[+] Img_name: 021494038.jpg has a negative keypoint co-ordinates, its handled.\n",
      "[+] Img_name: 007695320.jpg has a negative keypoint co-ordinates, its handled.\n",
      "[+] Img_name: 026560004.jpg has a negative keypoint co-ordinates, its handled.\n",
      "[+] Img_name: 088874808.jpg has a negative keypoint co-ordinates, its handled.\n",
      "[+] Img_name: 076102790.jpg has a negative keypoint co-ordinates, its handled.\n",
      "[+] Img_name: 018097695.jpg has a negative keypoint co-ordinates, its handled.\n",
      "[+] Img_name: 084417045.jpg has a negative keypoint co-ordinates, its handled.\n",
      "[+] Img_name: 020584121.jpg has a negative keypoint co-ordinates, its handled.\n",
      "[+] Img_name: 021567515.jpg has a negative keypoint co-ordinates, its handled.\n",
      "[+] Img_name: 066754990.jpg has a negative keypoint co-ordinates, its handled.\n",
      "[+] Img_name: 016801421.jpg has a negative keypoint co-ordinates, its handled.\n",
      "[+] Img_name: 060709404.jpg has a negative keypoint co-ordinates, its handled.\n",
      "[+] Img_name: 087797432.jpg has a negative keypoint co-ordinates, its handled.\n",
      "[+] Img_name: 094307584.jpg has a negative keypoint co-ordinates, its handled.\n",
      "[+] Img_name: 024069271.jpg has a negative keypoint co-ordinates, its handled.\n",
      "[+] Img_name: 076112154.jpg has a negative keypoint co-ordinates, its handled.\n",
      "[+] Img_name: 043401937.jpg has a negative keypoint co-ordinates, its handled.\n",
      "[+] Img_name: 087275384.jpg has a negative keypoint co-ordinates, its handled.\n",
      "[+] Img_name: 059322157.jpg has a negative keypoint co-ordinates, its handled.\n",
      "[+] Img_name: 091328695.jpg has a negative keypoint co-ordinates, its handled.\n",
      "[+] Img_name: 060107417.jpg has a negative keypoint co-ordinates, its handled.\n",
      "[+] Img_name: 037455289.jpg has a negative keypoint co-ordinates, its handled.\n",
      "[+] Img_name: 016686020.jpg has a negative keypoint co-ordinates, its handled.\n",
      "[+] Img_name: 089009704.jpg has a negative keypoint co-ordinates, its handled.\n",
      "[+] Img_name: 019462384.jpg has a negative keypoint co-ordinates, its handled.\n",
      "[+] Img_name: 039513774.jpg has a negative keypoint co-ordinates, its handled.\n",
      "[+] Img_name: 010926421.jpg has a negative keypoint co-ordinates, its handled.\n",
      "[+] Img_name: 028740960.jpg has a negative keypoint co-ordinates, its handled.\n",
      "[+] Img_name: 094370159.jpg has a negative keypoint co-ordinates, its handled.\n",
      "[+] Img_name: 096013560.jpg has a negative keypoint co-ordinates, its handled.\n",
      "[+] Img_name: 022867678.jpg has a negative keypoint co-ordinates, its handled.\n",
      "[+] Img_name: 022867678.jpg has a negative keypoint co-ordinates, its handled.\n",
      "[+] Img_name: 022207587.jpg has a negative keypoint co-ordinates, its handled.\n",
      "[+] Img_name: 075426497.jpg has a negative keypoint co-ordinates, its handled.\n",
      "[+] Img_name: 081087858.jpg has a negative keypoint co-ordinates, its handled.\n",
      "[+] Img_name: 069459543.jpg has a negative keypoint co-ordinates, its handled.\n",
      "[+] Img_name: 068544388.jpg has a negative keypoint co-ordinates, its handled.\n",
      "[+] Img_name: 044254551.jpg has a negative keypoint co-ordinates, its handled.\n",
      "[+] Img_name: 000531348.jpg has a negative keypoint co-ordinates, its handled.\n",
      "[+] Img_name: 065413274.jpg has a negative keypoint co-ordinates, its handled.\n",
      "[+] Img_name: 074818391.jpg has a negative keypoint co-ordinates, its handled.\n",
      "[+] Img_name: 074818391.jpg has a negative keypoint co-ordinates, its handled.\n",
      "[+] Img_name: 080666505.jpg has a negative keypoint co-ordinates, its handled.\n",
      "[+] Img_name: 080666505.jpg has a negative keypoint co-ordinates, its handled.\n",
      "[+] Img_name: 077910259.jpg has a negative keypoint co-ordinates, its handled.\n",
      "[+] Img_name: 025646306.jpg has a negative keypoint co-ordinates, its handled.\n",
      "[+] Img_name: 067399421.jpg has a negative keypoint co-ordinates, its handled.\n",
      "[+] Img_name: 057685738.jpg has a negative keypoint co-ordinates, its handled.\n",
      "[+] Img_name: 005668043.jpg has a negative keypoint co-ordinates, its handled.\n",
      "[+] Img_name: 021031856.jpg has a negative keypoint co-ordinates, its handled.\n",
      "[+] Img_name: 097915156.jpg has a negative keypoint co-ordinates, its handled.\n",
      "[+] Img_name: 067963318.jpg has a negative keypoint co-ordinates, its handled.\n",
      "[+] Img_name: 011821862.jpg has a negative keypoint co-ordinates, its handled.\n",
      "[+] Img_name: 053187177.jpg has a negative keypoint co-ordinates, its handled.\n",
      "[+] Img_name: 006203676.jpg has a negative keypoint co-ordinates, its handled.\n",
      "[+] Img_name: 093593725.jpg has a negative keypoint co-ordinates, its handled.\n",
      "[+] Img_name: 074227139.jpg has a negative keypoint co-ordinates, its handled.\n",
      "[+] Img_name: 050889407.jpg has a negative keypoint co-ordinates, its handled.\n",
      "[+] Img_name: 015828626.jpg has a negative keypoint co-ordinates, its handled.\n",
      "[+] Img_name: 029575283.jpg has a negative keypoint co-ordinates, its handled.\n",
      "[+] Img_name: 021613581.jpg has a negative keypoint co-ordinates, its handled.\n",
      "[+] Img_name: 002198652.jpg has a negative keypoint co-ordinates, its handled.\n",
      "[+] Img_name: 021563976.jpg has a negative keypoint co-ordinates, its handled.\n",
      "[+] Img_name: 021563976.jpg has a negative keypoint co-ordinates, its handled.\n",
      "[+] Img_name: 069679551.jpg has a negative keypoint co-ordinates, its handled.\n",
      "[+] Img_name: 049398718.jpg has a negative keypoint co-ordinates, its handled.\n",
      "[+] Img_name: 061477095.jpg has a negative keypoint co-ordinates, its handled.\n",
      "[+] Img_name: 024185295.jpg has a negative keypoint co-ordinates, its handled.\n",
      "[+] Img_name: 042543119.jpg has a negative keypoint co-ordinates, its handled.\n",
      "[+] Img_name: 067371165.jpg has a negative keypoint co-ordinates, its handled.\n",
      "[+] Img_name: 012151117.jpg has a negative keypoint co-ordinates, its handled.\n",
      "[+] Img_name: 020651316.jpg has a negative keypoint co-ordinates, its handled.\n",
      "[+] Img_name: 078578215.jpg has a negative keypoint co-ordinates, its handled.\n",
      "[+] Img_name: 003748796.jpg has a negative keypoint co-ordinates, its handled.\n",
      "[+] Img_name: 048169984.jpg has a negative keypoint co-ordinates, its handled.\n",
      "[+] Img_name: 071014504.jpg has a negative keypoint co-ordinates, its handled.\n",
      "[+] Img_name: 066653846.jpg has a negative keypoint co-ordinates, its handled.\n",
      "[+] Img_name: 099317079.jpg has a negative keypoint co-ordinates, its handled.\n",
      "[+] Img_name: 022159343.jpg has a negative keypoint co-ordinates, its handled.\n",
      "[+] Img_name: 056347047.jpg has a negative keypoint co-ordinates, its handled.\n",
      "[+] Img_name: 012000275.jpg has a negative keypoint co-ordinates, its handled.\n",
      "[+] Img_name: 024468619.jpg has a negative keypoint co-ordinates, its handled.\n",
      "[+] Img_name: 046587131.jpg has a negative keypoint co-ordinates, its handled.\n",
      "[+] Img_name: 023871468.jpg has a negative keypoint co-ordinates, its handled.\n",
      "[+] Img_name: 024232981.jpg has a negative keypoint co-ordinates, its handled.\n",
      "[+] Img_name: 024232981.jpg has a negative keypoint co-ordinates, its handled.\n",
      "[+] Img_name: 052868585.jpg has a negative keypoint co-ordinates, its handled.\n",
      "[+] Img_name: 052868585.jpg has a negative keypoint co-ordinates, its handled.\n",
      "[+] Img_name: 085491696.jpg has a negative keypoint co-ordinates, its handled.\n",
      "[+] Img_name: 043949251.jpg has a negative keypoint co-ordinates, its handled.\n",
      "[+] Img_name: 006044692.jpg has a negative keypoint co-ordinates, its handled.\n",
      "[+] Img_name: 097394058.jpg has a negative keypoint co-ordinates, its handled.\n",
      "[+] Img_name: 097394058.jpg has a negative keypoint co-ordinates, its handled.\n",
      "[+] Img_name: 076285548.jpg has a negative keypoint co-ordinates, its handled.\n",
      "[+] Img_name: 001259261.jpg has a negative keypoint co-ordinates, its handled.\n",
      "[+] Img_name: 089822352.jpg has a negative keypoint co-ordinates, its handled.\n",
      "[+] Img_name: 032835207.jpg has a negative keypoint co-ordinates, its handled.\n",
      "[+] Img_name: 098838988.jpg has a negative keypoint co-ordinates, its handled.\n",
      "[+] Img_name: 038291641.jpg has a negative keypoint co-ordinates, its handled.\n",
      "[+] Img_name: 094422367.jpg has a negative keypoint co-ordinates, its handled.\n",
      "[+] Img_name: 041965474.jpg has a negative keypoint co-ordinates, its handled.\n",
      "[+] Img_name: 015044855.jpg has a negative keypoint co-ordinates, its handled.\n",
      "[+] Img_name: 064293121.jpg has a negative keypoint co-ordinates, its handled.\n",
      "[+] Img_name: 058150831.jpg has a negative keypoint co-ordinates, its handled.\n",
      "[+] Img_name: 034488917.jpg has a negative keypoint co-ordinates, its handled.\n",
      "[+] Img_name: 003490586.jpg has a negative keypoint co-ordinates, its handled.\n",
      "[+] Img_name: 054164151.jpg has a negative keypoint co-ordinates, its handled.\n",
      "[+] Img_name: 038784510.jpg has a negative keypoint co-ordinates, its handled.\n",
      "[+] Img_name: 071683721.jpg has a negative keypoint co-ordinates, its handled.\n",
      "[+] Img_name: 039460495.jpg has a negative keypoint co-ordinates, its handled.\n",
      "[+] Img_name: 028509950.jpg has a negative keypoint co-ordinates, its handled.\n",
      "[+] Img_name: 026622829.jpg has a negative keypoint co-ordinates, its handled.\n",
      "[+] Img_name: 060329151.jpg has a negative keypoint co-ordinates, its handled.\n",
      "[+] Img_name: 009427598.jpg has a negative keypoint co-ordinates, its handled.\n",
      "[+] Img_name: 058286936.jpg has a negative keypoint co-ordinates, its handled.\n",
      "[+] Img_name: 025864024.jpg has a negative keypoint co-ordinates, its handled.\n",
      "[+] Img_name: 025864024.jpg has a negative keypoint co-ordinates, its handled.\n",
      "[+] Img_name: 029272444.jpg has a negative keypoint co-ordinates, its handled.\n",
      "[+] Img_name: 041077709.jpg has a negative keypoint co-ordinates, its handled.\n",
      "[+] Img_name: 087684800.jpg has a negative keypoint co-ordinates, its handled.\n",
      "[+] Img_name: 021346152.jpg has a negative keypoint co-ordinates, its handled.\n",
      "[+] Img_name: 021346152.jpg has a negative keypoint co-ordinates, its handled.\n",
      "[+] Img_name: 008536878.jpg has a negative keypoint co-ordinates, its handled.\n",
      "[+] Img_name: 011027673.jpg has a negative keypoint co-ordinates, its handled.\n",
      "[+] Img_name: 038350902.jpg has a negative keypoint co-ordinates, its handled.\n",
      "[+] Img_name: 097431764.jpg has a negative keypoint co-ordinates, its handled.\n",
      "[+] Img_name: 036867742.jpg has a negative keypoint co-ordinates, its handled.\n",
      "[+] Img_name: 064111947.jpg has a negative keypoint co-ordinates, its handled.\n",
      "[+] Img_name: 056052218.jpg has a negative keypoint co-ordinates, its handled.\n",
      "[+] Img_name: 092763830.jpg has a negative keypoint co-ordinates, its handled.\n",
      "[+] Img_name: 040733492.jpg has a negative keypoint co-ordinates, its handled.\n",
      "[+] Img_name: 099884483.jpg has a negative keypoint co-ordinates, its handled.\n",
      "[+] Img_name: 057922004.jpg has a negative keypoint co-ordinates, its handled.\n",
      "[+] Img_name: 004226899.jpg has a negative keypoint co-ordinates, its handled.\n",
      "[+] Img_name: 086238038.jpg has a negative keypoint co-ordinates, its handled.\n",
      "[+] Img_name: 019257610.jpg has a negative keypoint co-ordinates, its handled.\n",
      "[+] Img_name: 012101572.jpg has a negative keypoint co-ordinates, its handled.\n",
      "[+] Img_name: 068760143.jpg has a negative keypoint co-ordinates, its handled.\n",
      "[+] Img_name: 058341544.jpg has a negative keypoint co-ordinates, its handled.\n",
      "[+] Img_name: 022349875.jpg has a negative keypoint co-ordinates, its handled.\n",
      "[+] Img_name: 075545381.jpg has a negative keypoint co-ordinates, its handled.\n",
      "[+] Img_name: 096414580.jpg has a negative keypoint co-ordinates, its handled.\n",
      "[+] Img_name: 021064560.jpg has a negative keypoint co-ordinates, its handled.\n",
      "[+] Img_name: 021475940.jpg has a negative keypoint co-ordinates, its handled.\n",
      "[+] Img_name: 029670629.jpg has a negative keypoint co-ordinates, its handled.\n",
      "[+] Img_name: 098596168.jpg has a negative keypoint co-ordinates, its handled.\n",
      "[+] Img_name: 087287329.jpg has a negative keypoint co-ordinates, its handled.\n",
      "[+] Img_name: 016952016.jpg has a negative keypoint co-ordinates, its handled.\n",
      "[+] Img_name: 075660250.jpg has a negative keypoint co-ordinates, its handled.\n",
      "[+] Img_name: 031518729.jpg has a negative keypoint co-ordinates, its handled.\n",
      "[+] Img_name: 045762663.jpg has a negative keypoint co-ordinates, its handled.\n",
      "[+] Img_name: 042812805.jpg has a negative keypoint co-ordinates, its handled.\n",
      "[+] Img_name: 077963436.jpg has a negative keypoint co-ordinates, its handled.\n",
      "[+] Img_name: 087488197.jpg has a negative keypoint co-ordinates, its handled.\n",
      "[+] Img_name: 006307517.jpg has a negative keypoint co-ordinates, its handled.\n",
      "[+] Img_name: 078914395.jpg has a negative keypoint co-ordinates, its handled.\n",
      "[+] Img_name: 078914395.jpg has a negative keypoint co-ordinates, its handled.\n",
      "[+] Img_name: 070691102.jpg has a negative keypoint co-ordinates, its handled.\n",
      "[+] Img_name: 001360440.jpg has a negative keypoint co-ordinates, its handled.\n",
      "[+] Img_name: 001360440.jpg has a negative keypoint co-ordinates, its handled.\n",
      "[+] Img_name: 007338402.jpg has a negative keypoint co-ordinates, its handled.\n",
      "[+] Img_name: 007338402.jpg has a negative keypoint co-ordinates, its handled.\n",
      "[+] Img_name: 063060847.jpg has a negative keypoint co-ordinates, its handled.\n",
      "[+] Img_name: 038296701.jpg has a negative keypoint co-ordinates, its handled.\n",
      "[+] Img_name: 043982074.jpg has a negative keypoint co-ordinates, its handled.\n",
      "[+] Img_name: 025756773.jpg has a negative keypoint co-ordinates, its handled.\n",
      "[+] Img_name: 077072862.jpg has a negative keypoint co-ordinates, its handled.\n",
      "[+] Img_name: 076360436.jpg has a negative keypoint co-ordinates, its handled.\n",
      "[+] Img_name: 000594176.jpg has a negative keypoint co-ordinates, its handled.\n",
      "[+] Img_name: 075784629.jpg has a negative keypoint co-ordinates, its handled.\n",
      "[+] Img_name: 075784629.jpg has a negative keypoint co-ordinates, its handled.\n",
      "[+] Img_name: 064119963.jpg has a negative keypoint co-ordinates, its handled.\n",
      "[+] Img_name: 064119963.jpg has a negative keypoint co-ordinates, its handled.\n",
      "[+] Img_name: 078298836.jpg has a negative keypoint co-ordinates, its handled.\n",
      "[+] Img_name: 071633103.jpg has a negative keypoint co-ordinates, its handled.\n",
      "[+] Img_name: 081747644.jpg has a negative keypoint co-ordinates, its handled.\n",
      "[+] Img_name: 039003828.jpg has a negative keypoint co-ordinates, its handled.\n",
      "[+] Img_name: 065584895.jpg has a negative keypoint co-ordinates, its handled.\n",
      "[+] Img_name: 028434391.jpg has a negative keypoint co-ordinates, its handled.\n",
      "[+] Img_name: 075251866.jpg has a negative keypoint co-ordinates, its handled.\n",
      "[+] Img_name: 039324646.jpg has a negative keypoint co-ordinates, its handled.\n",
      "[+] Img_name: 064765959.jpg has a negative keypoint co-ordinates, its handled.\n",
      "[+] Img_name: 009895230.jpg has a negative keypoint co-ordinates, its handled.\n",
      "[+] Img_name: 019229172.jpg has a negative keypoint co-ordinates, its handled.\n",
      "[+] Img_name: 019229172.jpg has a negative keypoint co-ordinates, its handled.\n",
      "[+] Img_name: 078969943.jpg has a negative keypoint co-ordinates, its handled.\n",
      "[+] Img_name: 003913225.jpg has a negative keypoint co-ordinates, its handled.\n",
      "[+] Img_name: 074418611.jpg has a negative keypoint co-ordinates, its handled.\n",
      "[+] Img_name: 053198180.jpg has a negative keypoint co-ordinates, its handled.\n",
      "[+] Img_name: 018710842.jpg has a negative keypoint co-ordinates, its handled.\n",
      "[+] Img_name: 023868888.jpg has a negative keypoint co-ordinates, its handled.\n",
      "[+] Img_name: 059696029.jpg has a negative keypoint co-ordinates, its handled.\n",
      "[+] Img_name: 082689323.jpg has a negative keypoint co-ordinates, its handled.\n",
      "[+] Img_name: 096725462.jpg has a negative keypoint co-ordinates, its handled.\n",
      "[+] Img_name: 068178312.jpg has a negative keypoint co-ordinates, its handled.\n",
      "[+] Img_name: 016285829.jpg has a negative keypoint co-ordinates, its handled.\n",
      "[+] Img_name: 020379384.jpg has a negative keypoint co-ordinates, its handled.\n",
      "[+] Img_name: 003110858.jpg has a negative keypoint co-ordinates, its handled.\n",
      "[+] Img_name: 051329358.jpg has a negative keypoint co-ordinates, its handled.\n",
      "[+] Img_name: 057024812.jpg has a negative keypoint co-ordinates, its handled.\n",
      "[+] Img_name: 083247800.jpg has a negative keypoint co-ordinates, its handled.\n",
      "[+] Img_name: 080988159.jpg has a negative keypoint co-ordinates, its handled.\n",
      "[+] Img_name: 075162055.jpg has a negative keypoint co-ordinates, its handled.\n",
      "[+] Img_name: 063823225.jpg has a negative keypoint co-ordinates, its handled.\n",
      "[+] Img_name: 092354276.jpg has a negative keypoint co-ordinates, its handled.\n",
      "[+] Img_name: 090626579.jpg has a negative keypoint co-ordinates, its handled.\n",
      "[+] Img_name: 022931895.jpg has a negative keypoint co-ordinates, its handled.\n",
      "[+] Img_name: 082265346.jpg has a negative keypoint co-ordinates, its handled.\n",
      "[+] Img_name: 010480399.jpg has a negative keypoint co-ordinates, its handled.\n",
      "[+] Img_name: 024290967.jpg has a negative keypoint co-ordinates, its handled.\n",
      "[+] Img_name: 035462709.jpg has a negative keypoint co-ordinates, its handled.\n",
      "[+] Img_name: 033028701.jpg has a negative keypoint co-ordinates, its handled.\n",
      "[+] Img_name: 026918644.jpg has a negative keypoint co-ordinates, its handled.\n",
      "[+] Img_name: 047159467.jpg has a negative keypoint co-ordinates, its handled.\n",
      "[+] Img_name: 018366154.jpg has a negative keypoint co-ordinates, its handled.\n",
      "[+] Img_name: 072382868.jpg has a negative keypoint co-ordinates, its handled.\n",
      "[+] Img_name: 058019490.jpg has a negative keypoint co-ordinates, its handled.\n",
      "[+] Img_name: 028608778.jpg has a negative keypoint co-ordinates, its handled.\n",
      "[+] Img_name: 089064039.jpg has a negative keypoint co-ordinates, its handled.\n",
      "[+] Img_name: 093460539.jpg has a negative keypoint co-ordinates, its handled.\n",
      "[+] Img_name: 020808721.jpg has a negative keypoint co-ordinates, its handled.\n",
      "[+] Img_name: 096716406.jpg has a negative keypoint co-ordinates, its handled.\n",
      "[+] Img_name: 082882226.jpg has a negative keypoint co-ordinates, its handled.\n",
      "[+] Img_name: 076097356.jpg has a negative keypoint co-ordinates, its handled.\n",
      "[+] Img_name: 001209802.jpg has a negative keypoint co-ordinates, its handled.\n",
      "[+] Img_name: 092535491.jpg has a negative keypoint co-ordinates, its handled.\n",
      "[+] Img_name: 026498077.jpg has a negative keypoint co-ordinates, its handled.\n",
      "[+] Img_name: 028946969.jpg has a negative keypoint co-ordinates, its handled.\n",
      "[+] Img_name: 011024449.jpg has a negative keypoint co-ordinates, its handled.\n",
      "[+] Img_name: 014687451.jpg has a negative keypoint co-ordinates, its handled.\n",
      "[+] Img_name: 080429346.jpg has a negative keypoint co-ordinates, its handled.\n",
      "[+] Img_name: 005297879.jpg has a negative keypoint co-ordinates, its handled.\n",
      "[+] Img_name: 028456671.jpg has a negative keypoint co-ordinates, its handled.\n",
      "[+] Img_name: 069589465.jpg has a negative keypoint co-ordinates, its handled.\n",
      "[+] Img_name: 009601101.jpg has a negative keypoint co-ordinates, its handled.\n",
      "[+] Img_name: 037762908.jpg has a negative keypoint co-ordinates, its handled.\n",
      "[+] Img_name: 061359807.jpg has a negative keypoint co-ordinates, its handled.\n",
      "[+] Img_name: 002314625.jpg has a negative keypoint co-ordinates, its handled.\n",
      "[+] Img_name: 023984156.jpg has a negative keypoint co-ordinates, its handled.\n",
      "[+] Img_name: 086234161.jpg has a negative keypoint co-ordinates, its handled.\n",
      "[+] Img_name: 062182409.jpg has a negative keypoint co-ordinates, its handled.\n",
      "[+] Img_name: 065158590.jpg has a negative keypoint co-ordinates, its handled.\n",
      "[+] Img_name: 042394951.jpg has a negative keypoint co-ordinates, its handled.\n",
      "[+] Img_name: 022807494.jpg has a negative keypoint co-ordinates, its handled.\n",
      "[+] Img_name: 093773747.jpg has a negative keypoint co-ordinates, its handled.\n",
      "[+] Img_name: 082649936.jpg has a negative keypoint co-ordinates, its handled.\n",
      "[+] Img_name: 051179499.jpg has a negative keypoint co-ordinates, its handled.\n",
      "[+] Img_name: 011156899.jpg has a negative keypoint co-ordinates, its handled.\n",
      "[+] Img_name: 079002676.jpg has a negative keypoint co-ordinates, its handled.\n",
      "[+] Img_name: 043871155.jpg has a negative keypoint co-ordinates, its handled.\n",
      "[+] Img_name: 092001578.jpg has a negative keypoint co-ordinates, its handled.\n",
      "[+] Img_name: 004640436.jpg has a negative keypoint co-ordinates, its handled.\n",
      "[+] Img_name: 011756707.jpg has a negative keypoint co-ordinates, its handled.\n",
      "[+] Img_name: 029653443.jpg has a negative keypoint co-ordinates, its handled.\n",
      "[+] Img_name: 038606793.jpg has a negative keypoint co-ordinates, its handled.\n",
      "[+] Img_name: 084524210.jpg has a negative keypoint co-ordinates, its handled.\n",
      "[+] Img_name: 008785618.jpg has a negative keypoint co-ordinates, its handled.\n",
      "[+] Img_name: 048369003.jpg has a negative keypoint co-ordinates, its handled.\n",
      "[+] Img_name: 074949551.jpg has a negative keypoint co-ordinates, its handled.\n",
      "[+] Img_name: 013436961.jpg has a negative keypoint co-ordinates, its handled.\n",
      "[+] Img_name: 084867956.jpg has a negative keypoint co-ordinates, its handled.\n",
      "[+] Img_name: 015110016.jpg has a negative keypoint co-ordinates, its handled.\n",
      "[+] Img_name: 015110016.jpg has a negative keypoint co-ordinates, its handled.\n",
      "[+] Img_name: 036712909.jpg has a negative keypoint co-ordinates, its handled.\n",
      "[+] Img_name: 036712909.jpg has a negative keypoint co-ordinates, its handled.\n",
      "[+] Img_name: 012490391.jpg has a negative keypoint co-ordinates, its handled.\n",
      "[+] Img_name: 012490391.jpg has a negative keypoint co-ordinates, its handled.\n",
      "[+] Img_name: 012490391.jpg has a negative keypoint co-ordinates, its handled.\n",
      "[+] Img_name: 040483213.jpg has a negative keypoint co-ordinates, its handled.\n",
      "[+] Img_name: 040483213.jpg has a negative keypoint co-ordinates, its handled.\n",
      "[+] Img_name: 003966130.jpg has a negative keypoint co-ordinates, its handled.\n",
      "[+] Img_name: 003966130.jpg has a negative keypoint co-ordinates, its handled.\n",
      "[+] Img_name: 093389897.jpg has a negative keypoint co-ordinates, its handled.\n",
      "[+] Img_name: 060261628.jpg has a negative keypoint co-ordinates, its handled.\n",
      "[+] Img_name: 089041647.jpg has a negative keypoint co-ordinates, its handled.\n",
      "[+] Img_name: 000316731.jpg has a negative keypoint co-ordinates, its handled.\n",
      "[+] Img_name: 053827724.jpg has a negative keypoint co-ordinates, its handled.\n",
      "[+] Img_name: 017829326.jpg has a negative keypoint co-ordinates, its handled.\n",
      "[+] Img_name: 090786653.jpg has a negative keypoint co-ordinates, its handled.\n",
      "[+] Img_name: 078895834.jpg has a negative keypoint co-ordinates, its handled.\n",
      "[+] Img_name: 031583150.jpg has a negative keypoint co-ordinates, its handled.\n",
      "[+] Img_name: 024541059.jpg has a negative keypoint co-ordinates, its handled.\n",
      "[+] Img_name: 057483003.jpg has a negative keypoint co-ordinates, its handled.\n",
      "[+] Img_name: 081451288.jpg has a negative keypoint co-ordinates, its handled.\n",
      "[+] Img_name: 025599562.jpg has a negative keypoint co-ordinates, its handled.\n",
      "[+] Img_name: 063562806.jpg has a negative keypoint co-ordinates, its handled.\n",
      "[+] Img_name: 006598090.jpg has a negative keypoint co-ordinates, its handled.\n",
      "[+] Img_name: 044911044.jpg has a negative keypoint co-ordinates, its handled.\n",
      "[+] Img_name: 069320978.jpg has a negative keypoint co-ordinates, its handled.\n",
      "[+] Img_name: 058369658.jpg has a negative keypoint co-ordinates, its handled.\n",
      "[+] Img_name: 018348320.jpg has a negative keypoint co-ordinates, its handled.\n",
      "[+] Img_name: 060342986.jpg has a negative keypoint co-ordinates, its handled.\n",
      "[+] Img_name: 008706470.jpg has a negative keypoint co-ordinates, its handled.\n",
      "[+] Img_name: 069313218.jpg has a negative keypoint co-ordinates, its handled.\n",
      "[+] Img_name: 046843528.jpg has a negative keypoint co-ordinates, its handled.\n",
      "[+] Img_name: 081575159.jpg has a negative keypoint co-ordinates, its handled.\n",
      "[+] Img_name: 028246923.jpg has a negative keypoint co-ordinates, its handled.\n",
      "[+] Img_name: 067773660.jpg has a negative keypoint co-ordinates, its handled.\n",
      "[+] Img_name: 087395712.jpg has a negative keypoint co-ordinates, its handled.\n",
      "[+] Img_name: 096924593.jpg has a negative keypoint co-ordinates, its handled.\n",
      "[+] Img_name: 035355328.jpg has a negative keypoint co-ordinates, its handled.\n",
      "[+] Img_name: 068458840.jpg has a negative keypoint co-ordinates, its handled.\n",
      "[+] Img_name: 081453696.jpg has a negative keypoint co-ordinates, its handled.\n",
      "[+] Img_name: 078487991.jpg has a negative keypoint co-ordinates, its handled.\n",
      "[+] Img_name: 043364592.jpg has a negative keypoint co-ordinates, its handled.\n",
      "[+] Img_name: 020153794.jpg has a negative keypoint co-ordinates, its handled.\n",
      "[+] Img_name: 065112574.jpg has a negative keypoint co-ordinates, its handled.\n",
      "[+] Img_name: 073276186.jpg has a negative keypoint co-ordinates, its handled.\n",
      "[+] Img_name: 054768572.jpg has a negative keypoint co-ordinates, its handled.\n",
      "[+] Img_name: 063041603.jpg has a negative keypoint co-ordinates, its handled.\n",
      "[+] Img_name: 006181569.jpg has a negative keypoint co-ordinates, its handled.\n",
      "[+] Img_name: 045446351.jpg has a negative keypoint co-ordinates, its handled.\n",
      "[+] Img_name: 045997831.jpg has a negative keypoint co-ordinates, its handled.\n",
      "[+] Img_name: 025438881.jpg has a negative keypoint co-ordinates, its handled.\n",
      "[+] Img_name: 001197869.jpg has a negative keypoint co-ordinates, its handled.\n",
      "[+] Img_name: 090267117.jpg has a negative keypoint co-ordinates, its handled.\n",
      "[+] Img_name: 071699886.jpg has a negative keypoint co-ordinates, its handled.\n",
      "[+] Img_name: 075854492.jpg has a negative keypoint co-ordinates, its handled.\n",
      "[+] Img_name: 047677052.jpg has a negative keypoint co-ordinates, its handled.\n",
      "[+] Img_name: 069318700.jpg has a negative keypoint co-ordinates, its handled.\n",
      "[+] Img_name: 056144902.jpg has a negative keypoint co-ordinates, its handled.\n",
      "[+] Img_name: 023991792.jpg has a negative keypoint co-ordinates, its handled.\n",
      "[+] Img_name: 089173546.jpg has a negative keypoint co-ordinates, its handled.\n",
      "[+] Img_name: 089173546.jpg has a negative keypoint co-ordinates, its handled.\n",
      "[+] Img_name: 030291707.jpg has a negative keypoint co-ordinates, its handled.\n",
      "[+] Img_name: 023693588.jpg has a negative keypoint co-ordinates, its handled.\n",
      "[+] Img_name: 023693588.jpg has a negative keypoint co-ordinates, its handled.\n",
      "[+] Img_name: 034743836.jpg has a negative keypoint co-ordinates, its handled.\n",
      "[+] Img_name: 075452368.jpg has a negative keypoint co-ordinates, its handled.\n",
      "[+] Img_name: 018917186.jpg has a negative keypoint co-ordinates, its handled.\n",
      "[+] Img_name: 030024885.jpg has a negative keypoint co-ordinates, its handled.\n",
      "[+] Img_name: 082736891.jpg has a negative keypoint co-ordinates, its handled.\n",
      "[+] Img_name: 007983893.jpg has a negative keypoint co-ordinates, its handled.\n",
      "[+] Img_name: 084011316.jpg has a negative keypoint co-ordinates, its handled.\n",
      "[+] Img_name: 082857315.jpg has a negative keypoint co-ordinates, its handled.\n",
      "[+] Img_name: 072470181.jpg has a negative keypoint co-ordinates, its handled.\n",
      "[+] Img_name: 072470181.jpg has a negative keypoint co-ordinates, its handled.\n",
      "[+] Img_name: 056864964.jpg has a negative keypoint co-ordinates, its handled.\n",
      "[+] Img_name: 088388546.jpg has a negative keypoint co-ordinates, its handled.\n",
      "[+] Img_name: 037598667.jpg has a negative keypoint co-ordinates, its handled.\n",
      "[+] Img_name: 037598667.jpg has a negative keypoint co-ordinates, its handled.\n",
      "[+] Img_name: 047518916.jpg has a negative keypoint co-ordinates, its handled.\n",
      "[+] Img_name: 050702679.jpg has a negative keypoint co-ordinates, its handled.\n",
      "[+] Img_name: 061027555.jpg has a negative keypoint co-ordinates, its handled.\n",
      "[+] Img_name: 018609757.jpg has a negative keypoint co-ordinates, its handled.\n",
      "[+] Img_name: 062129703.jpg has a negative keypoint co-ordinates, its handled.\n",
      "[+] Img_name: 099407214.jpg has a negative keypoint co-ordinates, its handled.\n",
      "[+] Img_name: 099407214.jpg has a negative keypoint co-ordinates, its handled.\n",
      "[+] Img_name: 004851187.jpg has a negative keypoint co-ordinates, its handled.\n",
      "[+] Img_name: 054485526.jpg has a negative keypoint co-ordinates, its handled.\n",
      "[+] Img_name: 082064255.jpg has a negative keypoint co-ordinates, its handled.\n",
      "[+] Img_name: 063766428.jpg has a negative keypoint co-ordinates, its handled.\n",
      "[+] Img_name: 090885138.jpg has a negative keypoint co-ordinates, its handled.\n",
      "[+] Img_name: 023085355.jpg has a negative keypoint co-ordinates, its handled.\n",
      "[+] Img_name: 023085355.jpg has a negative keypoint co-ordinates, its handled.\n",
      "[+] Img_name: 046209682.jpg has a negative keypoint co-ordinates, its handled.\n",
      "[+] Img_name: 084404091.jpg has a negative keypoint co-ordinates, its handled.\n",
      "[+] Img_name: 071667187.jpg has a negative keypoint co-ordinates, its handled.\n",
      "[+] Img_name: 062455750.jpg has a negative keypoint co-ordinates, its handled.\n",
      "[+] Img_name: 023306983.jpg has a negative keypoint co-ordinates, its handled.\n",
      "[+] Img_name: 068641234.jpg has a negative keypoint co-ordinates, its handled.\n",
      "[+] Img_name: 005236037.jpg has a negative keypoint co-ordinates, its handled.\n",
      "[+] Img_name: 005236037.jpg has a negative keypoint co-ordinates, its handled.\n",
      "[+] Img_name: 099253807.jpg has a negative keypoint co-ordinates, its handled.\n",
      "[+] Img_name: 070090668.jpg has a negative keypoint co-ordinates, its handled.\n",
      "[+] Img_name: 013946465.jpg has a negative keypoint co-ordinates, its handled.\n",
      "[+] Img_name: 065773708.jpg has a negative keypoint co-ordinates, its handled.\n",
      "[+] Img_name: 076629838.jpg has a negative keypoint co-ordinates, its handled.\n",
      "[+] Img_name: 057241906.jpg has a negative keypoint co-ordinates, its handled.\n",
      "[+] Img_name: 089274900.jpg has a negative keypoint co-ordinates, its handled.\n",
      "[+] Img_name: 027698978.jpg has a negative keypoint co-ordinates, its handled.\n",
      "[+] Img_name: 033200801.jpg has a negative keypoint co-ordinates, its handled.\n",
      "[+] Img_name: 057752129.jpg has a negative keypoint co-ordinates, its handled.\n",
      "[+] Img_name: 003443597.jpg has a negative keypoint co-ordinates, its handled.\n"
     ]
    }
   ],
   "source": [
    "# This extractor method extracts the data from .mat and if (x < 0) or (y < 0) it replaces them as (x, y, visibility) = (0, 0, 0)\n",
    "# Also this extractor method drops the images that don't have corresponding annotations.\n",
    "valid_annot_data = extract_valid_data_from_matlab_file(data, id, num_images, f'{image_files_path}')"
   ]
  },
  {
   "cell_type": "markdown",
   "metadata": {},
   "source": [
    "Visibilty has two values:<br>\n",
    "0 -> Not visible<br>\n",
    "1 -> Visible"
   ]
  },
  {
   "cell_type": "markdown",
   "metadata": {},
   "source": [
    "From the above output we can see that lots of images had negative keypoint co-ordinates, the extractor method has handled them by replacing the<br>boththe x, y co-ordinates with 0 and marking visibility as 0, i.e, (x, y, visibility) = (0, 0, 0)"
   ]
  },
  {
   "cell_type": "markdown",
   "metadata": {},
   "source": [
    "## Checking beyond resolution keypoints"
   ]
  },
  {
   "cell_type": "code",
   "execution_count": 39,
   "metadata": {},
   "outputs": [],
   "source": [
    "beyond_resolution = 0"
   ]
  },
  {
   "cell_type": "code",
   "execution_count": 40,
   "metadata": {},
   "outputs": [],
   "source": [
    "# May take upto 2min to run\n",
    "for i in range(len(valid_annot_data)):\n",
    "    image_name = valid_annot_data[i]['name']\n",
    "    image_path = f'{image_files_path}/{image_name}'\n",
    "    image = cv2.imread(image_path) # reading the image, cause of the program delay\n",
    "    y_max, x_max = image.shape[0], image.shape[1]\n",
    "    \n",
    "    for j in range(len(valid_annot_data[i]['personInfo'])):\n",
    "        for k in range(len(valid_annot_data[i]['personInfo'][j]['x'])):\n",
    "            x = valid_annot_data[i]['personInfo'][j]['x'][k]\n",
    "            y = valid_annot_data[i]['personInfo'][j]['y'][k]\n",
    "\n",
    "            if x >= x_max or y >= y_max:\n",
    "                beyond_resolution += 1"
   ]
  },
  {
   "cell_type": "code",
   "execution_count": 18,
   "metadata": {},
   "outputs": [
    {
     "data": {
      "text/plain": [
       "131"
      ]
     },
     "execution_count": 18,
     "metadata": {},
     "output_type": "execute_result"
    }
   ],
   "source": [
    "beyond_resolution # Number of beyond resolution entries, we will handle them in data_preprocessig\n",
    "print(\"[+] Beyond Resolution: \", beyond_resolution)"
   ]
  },
  {
   "cell_type": "markdown",
   "metadata": {},
   "source": [
    "We can see that 131 images have beyond resolution keypoints, these will be handled in the preprocessing stage"
   ]
  },
  {
   "cell_type": "markdown",
   "metadata": {},
   "source": [
    "## Missing head_top, missing both ankles"
   ]
  },
  {
   "cell_type": "code",
   "execution_count": 41,
   "metadata": {},
   "outputs": [],
   "source": [
    "miss_head_top, miss_ankles = 0, 0 # head_top = 9, both_ankles = (0, 5)"
   ]
  },
  {
   "cell_type": "code",
   "execution_count": 42,
   "metadata": {},
   "outputs": [],
   "source": [
    "for i in range(len(valid_annot_data)):\n",
    "    for j in range(len(valid_annot_data[i]['personInfo'])):\n",
    "        # Missing head_top\n",
    "        h_x = valid_annot_data[i]['personInfo'][j]['x'][9]\n",
    "        h_y = valid_annot_data[i]['personInfo'][j]['y'][9]\n",
    "\n",
    "        a1_x = valid_annot_data[i]['personInfo'][j]['x'][0]\n",
    "        a1_y = valid_annot_data[i]['personInfo'][j]['y'][0]\n",
    "\n",
    "        a2_x = valid_annot_data[i]['personInfo'][j]['x'][5]\n",
    "        a2_y = valid_annot_data[i]['personInfo'][j]['x'][5]\n",
    "\n",
    "        if h_x == 0 and h_y == 0:\n",
    "            miss_head_top += 1\n",
    "        if (a1_x == 0 and a1_y == 0) and (a2_x == 0 and a2_y == 0):\n",
    "            miss_ankles += 1"
   ]
  },
  {
   "cell_type": "code",
   "execution_count": 43,
   "metadata": {},
   "outputs": [
    {
     "name": "stdout",
     "output_type": "stream",
     "text": [
      "[+] Miss_Head: 598 both_ankels_miss: 7664\n"
     ]
    }
   ],
   "source": [
    "miss_head_top, miss_ankles\n",
    "print(f\"[+] Miss_Head: {miss_head_top} both_ankels_miss: {miss_ankles}\")"
   ]
  },
  {
   "cell_type": "markdown",
   "metadata": {},
   "source": [
    "Entries with missing head-top or both ankle missing, we will handle them by adding extra padding in data_preprocessig"
   ]
  },
  {
   "cell_type": "code",
   "execution_count": 24,
   "metadata": {},
   "outputs": [],
   "source": [
    "## Missing category"
   ]
  },
  {
   "cell_type": "code",
   "execution_count": 25,
   "metadata": {},
   "outputs": [],
   "source": [
    "missing_category_count = 0\n",
    "for i in range(len(valid_annot_data)):\n",
    "    if valid_annot_data[i]['general_activity_name'] == '[]':\n",
    "        missing_category_count += 1"
   ]
  },
  {
   "cell_type": "code",
   "execution_count": 44,
   "metadata": {},
   "outputs": [
    {
     "name": "stdout",
     "output_type": "stream",
     "text": [
      "[+] Missing category: 41\n"
     ]
    }
   ],
   "source": [
    "missing_category_count\n",
    "print(f\"[+] Missing category: {missing_category_count}\")"
   ]
  },
  {
   "cell_type": "markdown",
   "metadata": {},
   "source": [
    "We can see the number of images that have a missing category, we will handle them in data-preprocessing by not including them"
   ]
  }
 ],
 "metadata": {
  "kernelspec": {
   "display_name": "aditya",
   "language": "python",
   "name": "python3"
  },
  "language_info": {
   "codemirror_mode": {
    "name": "ipython",
    "version": 3
   },
   "file_extension": ".py",
   "mimetype": "text/x-python",
   "name": "python",
   "nbconvert_exporter": "python",
   "pygments_lexer": "ipython3",
   "version": "3.10.13"
  }
 },
 "nbformat": 4,
 "nbformat_minor": 2
}
